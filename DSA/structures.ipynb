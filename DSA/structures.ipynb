{
 "metadata": {
  "language_info": {
   "codemirror_mode": {
    "name": "ipython",
    "version": 3
   },
   "file_extension": ".py",
   "mimetype": "text/x-python",
   "name": "python",
   "nbconvert_exporter": "python",
   "pygments_lexer": "ipython3",
   "version": "3.7.6-final"
  },
  "orig_nbformat": 2,
  "kernelspec": {
   "name": "python3",
   "display_name": "Python 3"
  }
 },
 "nbformat": 4,
 "nbformat_minor": 2,
 "cells": [
  {
   "cell_type": "code",
   "execution_count": null,
   "metadata": {},
   "outputs": [],
   "source": [
    "def get_hash(key):\n",
    "    h=0\n",
    "    for char in key:\n",
    "        h+=ord(char)\n",
    "    return h%100"
   ]
  },
  {
   "cell_type": "code",
   "execution_count": null,
   "metadata": {},
   "outputs": [],
   "source": [
    "get_hash('march 6')"
   ]
  },
  {
   "cell_type": "code",
   "execution_count": null,
   "metadata": {},
   "outputs": [],
   "source": [
    "class HashTable:\n",
    "    def __init__(self):\n",
    "        self.MAX = 100\n",
    "        self.arr = [[] for i in range(self.MAX)]\n",
    "    \n",
    "    def get_hash(self, key):\n",
    "        h=0\n",
    "        for char in key:\n",
    "            h+=ord(char)\n",
    "        return h%self.MAX\n",
    "\n",
    "    def __setitem__(self,key,val):\n",
    "        h=self.get_hash(key)\n",
    "        self.arr[h]=val\n",
    "    \n",
    "    def __getitem__(self,key):\n",
    "        h=self.get_hash(key)\n",
    "        return self.arr[h]\n",
    "\n",
    "    def __delitem__(self,key):\n",
    "        h=self.get_hash(key)\n",
    "        self.arr[h]=None\n",
    "\n"
   ]
  },
  {
   "cell_type": "code",
   "execution_count": null,
   "metadata": {},
   "outputs": [],
   "source": [
    "t=HashTable()\n",
    "t['march 6']=130"
   ]
  },
  {
   "cell_type": "code",
   "execution_count": null,
   "metadata": {},
   "outputs": [],
   "source": [
    "t['march 22']=132"
   ]
  },
  {
   "cell_type": "code",
   "execution_count": null,
   "metadata": {},
   "outputs": [],
   "source": [
    "t['march 6']"
   ]
  },
  {
   "cell_type": "code",
   "execution_count": null,
   "metadata": {},
   "outputs": [],
   "source": [
    "del t['march 6']"
   ]
  },
  {
   "cell_type": "code",
   "execution_count": null,
   "metadata": {},
   "outputs": [],
   "source": [
    "li=['apple','samsung','microsoft','google','amazon','facebook','netflix']\n",
    "for i,j in enumerate(li,100):\n",
    "    print(j[1])"
   ]
  },
  {
   "source": [
    "<h3>Stack using DEQUEUE</h3>"
   ],
   "cell_type": "markdown",
   "metadata": {}
  },
  {
   "cell_type": "code",
   "execution_count": null,
   "metadata": {},
   "outputs": [],
   "source": [
    "from collections import deque\n",
    "stack = deque()\n"
   ]
  },
  {
   "cell_type": "code",
   "execution_count": null,
   "metadata": {},
   "outputs": [],
   "source": [
    "dir(stack)"
   ]
  },
  {
   "cell_type": "code",
   "execution_count": null,
   "metadata": {},
   "outputs": [],
   "source": [
    "stack.append('leetcode.com')\n",
    "stack.append('hackerrank.com')"
   ]
  },
  {
   "cell_type": "code",
   "execution_count": null,
   "metadata": {},
   "outputs": [],
   "source": [
    "class Stack:\n",
    "    def __init__(self):\n",
    "        self.container=deque()\n",
    "    \n",
    "    def push(self,val):\n",
    "        self.container.append(val)\n",
    "    \n",
    "    def pop(self):\n",
    "        return self.container.pop()\n",
    "\n",
    "    def peek(self):\n",
    "        return self.container[-1]\n",
    "\n",
    "    def is_empty(self):\n",
    "        return len(self.container)==0\n",
    "    \n",
    "    def size(self):\n",
    "        return len(self.container)\n",
    "\n",
    "def is_match(ch1,ch2):\n",
    "    match={'}':'{',']':'[',')':'('}\n",
    "    return match[ch1]==ch2\n",
    "\n",
    "def is_balanced(s):\n",
    "    stack = Stack()\n",
    "    for ch in s:\n",
    "        if ch=='(' or ch=='{' or ch == '[':\n",
    "            stack.push(ch)\n",
    "        if ch==')' or ch=='}' or ch == ']':\n",
    "            if stack.size()==0:\n",
    "                return False\n",
    "            if not is_match(ch,stack.pop()):\n",
    "                return False\n",
    "\n",
    "    return stack.size()==0\n"
   ]
  },
  {
   "cell_type": "code",
   "execution_count": null,
   "metadata": {},
   "outputs": [],
   "source": [
    "s=Stack()"
   ]
  },
  {
   "cell_type": "code",
   "execution_count": null,
   "metadata": {},
   "outputs": [],
   "source": [
    "s.push(4)\n",
    "s.push(5)\n",
    "s.push(6)"
   ]
  },
  {
   "cell_type": "code",
   "execution_count": null,
   "metadata": {},
   "outputs": [],
   "source": [
    "s.pop()"
   ]
  },
  {
   "cell_type": "code",
   "execution_count": null,
   "metadata": {},
   "outputs": [],
   "source": [
    "is_balanced('{([Hello])}')"
   ]
  },
  {
   "cell_type": "code",
   "execution_count": 11,
   "metadata": {},
   "outputs": [
    {
     "output_type": "stream",
     "name": "stdout",
     "text": [
      "Hello\nb\n"
     ]
    }
   ],
   "source": [
    "sample={'a':'a','b':'b'}\n",
    "for i in sample.keys():\n",
    "    if(i=='a'):print(\"Hello\")\n",
    "    else: print(i)\n"
   ]
  },
  {
   "source": [
    "<h>Queue in Python</h3>"
   ],
   "cell_type": "markdown",
   "metadata": {}
  },
  {
   "cell_type": "code",
   "execution_count": 6,
   "metadata": {},
   "outputs": [],
   "source": [
    "stock_price=[]"
   ]
  },
  {
   "cell_type": "code",
   "execution_count": 13,
   "metadata": {},
   "outputs": [],
   "source": [
    "stock_price.insert(0,131)\n",
    "stock_price.insert(0,132)\n",
    "stock_price.insert(0,133)"
   ]
  },
  {
   "cell_type": "code",
   "execution_count": 14,
   "metadata": {},
   "outputs": [
    {
     "output_type": "execute_result",
     "data": {
      "text/plain": [
       "131"
      ]
     },
     "metadata": {},
     "execution_count": 14
    }
   ],
   "source": [
    "stock_price.pop()"
   ]
  },
  {
   "cell_type": "code",
   "execution_count": 24,
   "metadata": {},
   "outputs": [],
   "source": [
    "from collections import deque\n",
    "q=deque()"
   ]
  },
  {
   "cell_type": "code",
   "execution_count": 38,
   "metadata": {},
   "outputs": [],
   "source": [
    "q.appendleft(3)\n",
    "q.appendleft(4)\n",
    "q.appendleft(5)"
   ]
  },
  {
   "cell_type": "code",
   "execution_count": 39,
   "metadata": {},
   "outputs": [
    {
     "output_type": "execute_result",
     "data": {
      "text/plain": [
       "deque([5, 4, 3])"
      ]
     },
     "metadata": {},
     "execution_count": 39
    }
   ],
   "source": [
    "q"
   ]
  },
  {
   "cell_type": "code",
   "execution_count": 40,
   "metadata": {},
   "outputs": [
    {
     "output_type": "execute_result",
     "data": {
      "text/plain": [
       "3"
      ]
     },
     "metadata": {},
     "execution_count": 40
    }
   ],
   "source": [
    "q.pop()"
   ]
  },
  {
   "cell_type": "code",
   "execution_count": 41,
   "metadata": {},
   "outputs": [],
   "source": [
    "from collections import deque\n",
    "\n",
    "class Queue:\n",
    "    def __init__(self):\n",
    "        self.buffer=Queue()\n",
    "\n",
    "    def enqueue(self,val):\n",
    "        self.buffer.appendleft(val)\n",
    "    \n",
    "    def getqueue(self):\n",
    "        return self.buffer\n",
    "    \n",
    "    def dequeue(self):\n",
    "        return self.buffer.pop()\n",
    "\n",
    "    def is_empty(self):\n",
    "        return len(self.buffer)==0\n",
    "    \n",
    "    def size(self):\n",
    "        return len(self.buffer)"
   ]
  },
  {
   "cell_type": "code",
   "execution_count": null,
   "metadata": {},
   "outputs": [],
   "source": []
  }
 ]
}