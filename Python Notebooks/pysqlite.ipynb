{
 "metadata": {
  "language_info": {
   "codemirror_mode": {
    "name": "ipython",
    "version": 3
   },
   "file_extension": ".py",
   "mimetype": "text/x-python",
   "name": "python",
   "nbconvert_exporter": "python",
   "pygments_lexer": "ipython3",
   "version": "3.7.6-final"
  },
  "orig_nbformat": 2,
  "kernelspec": {
   "name": "python3",
   "display_name": "Python 3.7.6 64-bit",
   "metadata": {
    "interpreter": {
     "hash": "097379830b25b56081b947434cb55052debce9ba36b4571c7d0bb2068f32756b"
    }
   }
  }
 },
 "nbformat": 4,
 "nbformat_minor": 2,
 "cells": [
  {
   "cell_type": "code",
   "execution_count": 11,
   "metadata": {},
   "outputs": [],
   "source": [
    "import pandas as pd\n",
    "import numpy as np\n",
    "import matplotlib.pyplot as plt"
   ]
  },
  {
   "cell_type": "code",
   "execution_count": 12,
   "metadata": {},
   "outputs": [
    {
     "output_type": "stream",
     "name": "stdout",
     "text": [
      "Opened database successfully\n"
     ]
    }
   ],
   "source": [
    "import sqlite3\n",
    "conn = sqlite3.connect('test.db')\n",
    "print (\"Opened database successfully\");"
   ]
  },
  {
   "cell_type": "code",
   "execution_count": 13,
   "metadata": {},
   "outputs": [
    {
     "output_type": "stream",
     "name": "stdout",
     "text": [
      "Opened database successfully\n",
      "Table created successfully\n"
     ]
    }
   ],
   "source": [
    "import sqlite3\n",
    "conn = sqlite3.connect('test.db')\n",
    "print (\"Opened database successfully\");\n",
    "conn.execute('''CREATE TABLE COMPANY\n",
    "         (ID INT PRIMARY KEY     NOT NULL,\n",
    "         NAME           TEXT    NOT NULL,\n",
    "         AGE            INT     NOT NULL,\n",
    "         ADDRESS        CHAR(50),\n",
    "         SALARY         REAL);''')\n",
    "print (\"Table created successfully\");\n",
    "conn.close()"
   ]
  },
  {
   "cell_type": "code",
   "execution_count": 14,
   "metadata": {},
   "outputs": [],
   "source": [
    "# import sqlite3\n",
    "# conn = sqlite3.connect('test.db')\n",
    "# print (\"Connection Success\");\n",
    "# conn.execute('''drop table company''')\n",
    "# print (\"Table dropped successfully\");\n",
    "# conn.close()"
   ]
  },
  {
   "cell_type": "code",
   "execution_count": 15,
   "metadata": {},
   "outputs": [],
   "source": [
    "# conn.close()"
   ]
  },
  {
   "cell_type": "code",
   "execution_count": 16,
   "metadata": {},
   "outputs": [
    {
     "output_type": "stream",
     "name": "stdout",
     "text": [
      "Opened database successfully\nRecords created successfully\n"
     ]
    }
   ],
   "source": [
    "import sqlite3\n",
    "conn = sqlite3.connect('test.db')\n",
    "print (\"Opened database successfully\");\n",
    "\n",
    "conn.execute(\"INSERT INTO COMPANY (ID,NAME,AGE,ADDRESS,SALARY) \\\n",
    "      VALUES (5, 'Devang', 21, 'California', 200000.00 )\");\n",
    "      \n",
    "conn.execute(\"INSERT INTO COMPANY (ID,NAME,AGE,ADDRESS,SALARY) \\\n",
    "      VALUES (6, 'Muktan', 21, 'Texas', 35000.00 )\");\n",
    "\n",
    "conn.execute(\"INSERT INTO COMPANY (ID,NAME,AGE,ADDRESS,SALARY) \\\n",
    "      VALUES (7, 'Vivek', 23, 'New Jersey', 50000.00 )\");\n",
    "\n",
    "conn.execute(\"INSERT INTO COMPANY (ID,NAME,AGE,ADDRESS,SALARY) \\\n",
    "      VALUES (8, 'Vishnu', 25, 'Rich-Mond', 65000.00 )\");\n",
    "conn.commit()\n",
    "print (\"Records created successfully\");\n",
    "conn.close()"
   ]
  },
  {
   "cell_type": "code",
   "execution_count": 33,
   "metadata": {},
   "outputs": [
    {
     "output_type": "stream",
     "name": "stdout",
     "text": [
      "Opened database successfully\nID =  5\nNAME =  Devang\nADDRESS =  California\nSALARY =  200000.0 \n\nID =  6\nNAME =  Muktan\nADDRESS =  Texas\nSALARY =  35000.0 \n\nID =  7\nNAME =  Vivek\nADDRESS =  New Jersey\nSALARY =  50000.0 \n\nID =  8\nNAME =  Vishnu\nADDRESS =  Rich-Mond\nSALARY =  65000.0 \n\nOperation done successfully\n"
     ]
    }
   ],
   "source": [
    "import sqlite3\n",
    "\n",
    "conn = sqlite3.connect('test.db')\n",
    "print (\"Opened database successfully\");\n",
    "\n",
    "cursor = conn.execute(\"SELECT id, name, address, salary from COMPANY\")\n",
    "results =cursor.fetchall()\n",
    "# print(results)\n",
    "for col in results:\n",
    "    # print(col,\"\\n\")\n",
    "    print (\"ID = \", col[0])\n",
    "    print (\"NAME = \", col[1])\n",
    "    print (\"ADDRESS = \", col[2])\n",
    "    print (\"SALARY = \", col[3], \"\\n\")\n",
    "print (\"Operation done successfully\");\n",
    "conn.close()"
   ]
  },
  {
   "cell_type": "code",
   "execution_count": 18,
   "metadata": {},
   "outputs": [
    {
     "output_type": "stream",
     "name": "stdout",
     "text": [
      "Opened database successfully\nTotal number of rows updated : 0\nID =  5\nNAME =  Devang\nADDRESS =  California\nSALARY =  200000.0 \n\nID =  6\nNAME =  Muktan\nADDRESS =  Texas\nSALARY =  35000.0 \n\nID =  7\nNAME =  Vivek\nADDRESS =  New Jersey\nSALARY =  50000.0 \n\nID =  8\nNAME =  Vishnu\nADDRESS =  Rich-Mond\nSALARY =  65000.0 \n\nOperation done successfully\n"
     ]
    }
   ],
   "source": [
    "import sqlite3\n",
    "\n",
    "conn = sqlite3.connect('test.db')\n",
    "print (\"Opened database successfully\");\n",
    "\n",
    "conn.execute(\"UPDATE COMPANY set SALARY = 25000.00 where ID = 1\")\n",
    "conn.commit()\n",
    "print (\"Total number of rows updated :\", conn.total_changes)\n",
    "\n",
    "cursor = conn.execute(\"SELECT id, name, address, salary from COMPANY\")\n",
    "for row in cursor:\n",
    "   print (\"ID = \", row[0])\n",
    "   print (\"NAME = \", row[1])\n",
    "   print (\"ADDRESS = \", row[2])\n",
    "   print (\"SALARY = \", row[3], \"\\n\")\n",
    "\n",
    "print (\"Operation done successfully\")\n",
    "conn.close()"
   ]
  },
  {
   "cell_type": "code",
   "execution_count": 19,
   "metadata": {},
   "outputs": [
    {
     "output_type": "stream",
     "name": "stdout",
     "text": [
      "Opened database successfully\n",
      "Total number of rows deleted : 0\n",
      "ID =  5\n",
      "NAME =  Devang\n",
      "ADDRESS =  California\n",
      "SALARY =  200000.0 \n",
      "\n",
      "ID =  6\n",
      "NAME =  Muktan\n",
      "ADDRESS =  Texas\n",
      "SALARY =  35000.0 \n",
      "\n",
      "ID =  7\n",
      "NAME =  Vivek\n",
      "ADDRESS =  New Jersey\n",
      "SALARY =  50000.0 \n",
      "\n",
      "ID =  8\n",
      "NAME =  Vishnu\n",
      "ADDRESS =  Rich-Mond\n",
      "SALARY =  65000.0 \n",
      "\n",
      "Operation done successfully\n"
     ]
    }
   ],
   "source": [
    "import sqlite3\n",
    "\n",
    "conn = sqlite3.connect('test.db')\n",
    "print (\"Opened database successfully\")\n",
    "\n",
    "conn.execute(\"DELETE from COMPANY where ID = 2;\")\n",
    "conn.commit()\n",
    "print (\"Total number of rows deleted :\", conn.total_changes)\n",
    "\n",
    "cursor = conn.execute(\"SELECT id, name, address, salary from COMPANY\")\n",
    "for row in cursor:\n",
    "   print (\"ID = \", row[0])\n",
    "   print (\"NAME = \", row[1])\n",
    "   print (\"ADDRESS = \", row[2])\n",
    "   print (\"SALARY = \", row[3], \"\\n\")\n",
    "\n",
    "print (\"Operation done successfully\")\n",
    "conn.close()"
   ]
  }
 ]
}