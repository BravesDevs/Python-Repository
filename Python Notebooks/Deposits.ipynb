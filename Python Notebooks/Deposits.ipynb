{
 "metadata": {
  "language_info": {
   "codemirror_mode": {
    "name": "ipython",
    "version": 3
   },
   "file_extension": ".py",
   "mimetype": "text/x-python",
   "name": "python",
   "nbconvert_exporter": "python",
   "pygments_lexer": "ipython3",
   "version": "3.7.6"
  },
  "orig_nbformat": 2,
  "kernelspec": {
   "name": "python376jvsc74a57bd0097379830b25b56081b947434cb55052debce9ba36b4571c7d0bb2068f32756b",
   "display_name": "Python 3.7.6 64-bit"
  }
 },
 "nbformat": 4,
 "nbformat_minor": 2,
 "cells": [
  {
   "cell_type": "code",
   "execution_count": 14,
   "metadata": {},
   "outputs": [],
   "source": [
    "import pandas as pd\n",
    "import numpy as np"
   ]
  },
  {
   "cell_type": "code",
   "execution_count": 38,
   "metadata": {},
   "outputs": [],
   "source": [
    "data=pd.read_csv('Deposits.csv')"
   ]
  },
  {
   "cell_type": "code",
   "execution_count": 49,
   "metadata": {},
   "outputs": [
    {
     "output_type": "execute_result",
     "data": {
      "text/plain": [
       "    No  Start Date    Due Date             Name1           Name2  \\\n",
       "0  1.0  11-02-2021  02/11/2024  Rohiniben Parekh   Manish Parekh   \n",
       "1  2.0  12-04-2016  04/12/2021      Reena Parekh   Manish Parekh   \n",
       "2  3.0  18-10-2020  11/12/2021  Rohiniben Parekh  Kalpesh Parekh   \n",
       "3  4.0  29-09-2020    29/09/21  Rohiniben Parekh   Manish Parekh   \n",
       "4  5.0  06-12-2016  12/06/2021      Reena Parekh   Manish Parekh   \n",
       "\n",
       "        Nominee Bank Name  Bank Branch  Amount Dep  Amount Due  \n",
       "0  Reena Parekh       BOB       Navyug  ₹350,000.0  ₹413,546.0  \n",
       "1           NaN       BOB  Parsi Sheri   ₹20,000.0   ₹28,101.0  \n",
       "2           NaN       BOB     Chhipwad  ₹150,000.0  ₹159,430.0  \n",
       "3           NaN       BOB     Chhipwad  ₹150,000.0  ₹158,578.0  \n",
       "4           NaN       BOB  Parsi Sheri   ₹40,000.0   ₹54,647.0  "
      ],
      "text/html": "<div>\n<style scoped>\n    .dataframe tbody tr th:only-of-type {\n        vertical-align: middle;\n    }\n\n    .dataframe tbody tr th {\n        vertical-align: top;\n    }\n\n    .dataframe thead th {\n        text-align: right;\n    }\n</style>\n<table border=\"1\" class=\"dataframe\">\n  <thead>\n    <tr style=\"text-align: right;\">\n      <th></th>\n      <th>No</th>\n      <th>Start Date</th>\n      <th>Due Date</th>\n      <th>Name1</th>\n      <th>Name2</th>\n      <th>Nominee</th>\n      <th>Bank Name</th>\n      <th>Bank Branch</th>\n      <th>Amount Dep</th>\n      <th>Amount Due</th>\n    </tr>\n  </thead>\n  <tbody>\n    <tr>\n      <th>0</th>\n      <td>1.0</td>\n      <td>11-02-2021</td>\n      <td>02/11/2024</td>\n      <td>Rohiniben Parekh</td>\n      <td>Manish Parekh</td>\n      <td>Reena Parekh</td>\n      <td>BOB</td>\n      <td>Navyug</td>\n      <td>₹350,000.0</td>\n      <td>₹413,546.0</td>\n    </tr>\n    <tr>\n      <th>1</th>\n      <td>2.0</td>\n      <td>12-04-2016</td>\n      <td>04/12/2021</td>\n      <td>Reena Parekh</td>\n      <td>Manish Parekh</td>\n      <td>NaN</td>\n      <td>BOB</td>\n      <td>Parsi Sheri</td>\n      <td>₹20,000.0</td>\n      <td>₹28,101.0</td>\n    </tr>\n    <tr>\n      <th>2</th>\n      <td>3.0</td>\n      <td>18-10-2020</td>\n      <td>11/12/2021</td>\n      <td>Rohiniben Parekh</td>\n      <td>Kalpesh Parekh</td>\n      <td>NaN</td>\n      <td>BOB</td>\n      <td>Chhipwad</td>\n      <td>₹150,000.0</td>\n      <td>₹159,430.0</td>\n    </tr>\n    <tr>\n      <th>3</th>\n      <td>4.0</td>\n      <td>29-09-2020</td>\n      <td>29/09/21</td>\n      <td>Rohiniben Parekh</td>\n      <td>Manish Parekh</td>\n      <td>NaN</td>\n      <td>BOB</td>\n      <td>Chhipwad</td>\n      <td>₹150,000.0</td>\n      <td>₹158,578.0</td>\n    </tr>\n    <tr>\n      <th>4</th>\n      <td>5.0</td>\n      <td>06-12-2016</td>\n      <td>12/06/2021</td>\n      <td>Reena Parekh</td>\n      <td>Manish Parekh</td>\n      <td>NaN</td>\n      <td>BOB</td>\n      <td>Parsi Sheri</td>\n      <td>₹40,000.0</td>\n      <td>₹54,647.0</td>\n    </tr>\n  </tbody>\n</table>\n</div>"
     },
     "metadata": {},
     "execution_count": 49
    }
   ],
   "source": [
    "data.head(5)"
   ]
  },
  {
   "cell_type": "code",
   "execution_count": 74,
   "metadata": {},
   "outputs": [],
   "source": [
    "dataNew =  data[(data['Due Date']>='01/05/2021') & (data['Due Date']<='31/05/2021')]"
   ]
  },
  {
   "cell_type": "code",
   "execution_count": 75,
   "metadata": {},
   "outputs": [
    {
     "output_type": "execute_result",
     "data": {
      "text/plain": [
       "      No  Start Date    Due Date                Name1                Name2  \\\n",
       "0    1.0  11-02-2021  02/11/2024     Rohiniben Parekh        Manish Parekh   \n",
       "1    2.0  12-04-2016  04/12/2021         Reena Parekh        Manish Parekh   \n",
       "2    3.0  18-10-2020  11/12/2021     Rohiniben Parekh       Kalpesh Parekh   \n",
       "3    4.0  29-09-2020    29/09/21     Rohiniben Parekh        Manish Parekh   \n",
       "4    5.0  06-12-2016  12/06/2021         Reena Parekh        Manish Parekh   \n",
       "5    6.0  12-04-2016  04/12/2021        Manish Parekh         Reena Parekh   \n",
       "6    7.0  12-05-2014  11/07/2022     Rohiniben Parekh  Nalinchandra Parekh   \n",
       "7    8.0  26-06-2016    22/06/22  Nalinchandra Parekh     Rohiniben Parekh   \n",
       "8    9.0  06-04-2018  04/08/2021  Nalinchandra Parekh     Rohiniben Parekh   \n",
       "9   10.0  20-03-2018    18/03/22  Nalinchandra Parekh     Rohiniben Parekh   \n",
       "10  11.0  20-04-2018  05/05/2021        Manish Parekh         Reena Parekh   \n",
       "11  12.0  20-04-2018  05/05/2021        Manish Parekh         Reena Parekh   \n",
       "12  13.0  02-10-2020  04/02/2022     Rohiniben Parekh         Reena Parekh   \n",
       "13  14.0  06-09-2020  03/06/2022         Reena Parekh     Rohiniben Parekh   \n",
       "14  15.0  10-11-2014    19/09/22        Manish Parekh         Reena Parekh   \n",
       "15  16.0  10-11-2014  08/10/2023         Reena Parekh        Manish Parekh   \n",
       "16  17.0  10-12-2013  12/10/2022         Reena Parekh        Manish Parekh   \n",
       "17  18.0  11-11-2014    19/09/22        Manish Parekh         Reena Parekh   \n",
       "\n",
       "         Nominee Bank Name   Bank Branch  Amount Dep  Amount Due  \n",
       "0   Reena Parekh       BOB        Navyug  ₹350,000.0  ₹413,546.0  \n",
       "1            NaN       BOB   Parsi Sheri   ₹20,000.0   ₹28,101.0  \n",
       "2            NaN       BOB      Chhipwad  ₹150,000.0  ₹159,430.0  \n",
       "3            NaN       BOB      Chhipwad  ₹150,000.0  ₹158,578.0  \n",
       "4            NaN       BOB   Parsi Sheri   ₹40,000.0   ₹54,647.0  \n",
       "5            NaN       BOB   Parsi Sheri   ₹60,000.0   ₹81,994.0  \n",
       "6            NaN       SPB   Parsi Sheri   ₹75,308.0  ₹130,697.0  \n",
       "7            NaN       SPB   Parsi Sheri   ₹95,233.0  ₹132,676.0  \n",
       "8            NaN       SPB   Parsi Sheri   ₹62,410.0   ₹79,146.0  \n",
       "9            NaN       SPB   Parsi Sheri   ₹60,996.0   ₹82,450.0  \n",
       "10           NaN       SPB   Parsi Sheri   ₹31,179.0   ₹40,872.0  \n",
       "11           NaN       SPB   Parsi Sheri   ₹37,414.0   ₹49,045.0  \n",
       "12           NaN       CAN  Kotsafil MRD   ₹46,397.0   ₹50,545.0  \n",
       "13           NaN       CAN  Kotsafil MRD   ₹44,787.0   ₹48,503.0  \n",
       "14           NaN       CAN  Kotsafil MRD   ₹25,000.0   ₹43,769.0  \n",
       "15           NaN       CAN  Kotsafil MRD   ₹25,000.0   ₹45,368.0  \n",
       "16           NaN       CAN  Kotsafil MRD   ₹25,000.0   ₹48,865.0  \n",
       "17           NaN       CAN  Kotsafil MRD   ₹30,000.0   ₹52,514.0  "
      ],
      "text/html": "<div>\n<style scoped>\n    .dataframe tbody tr th:only-of-type {\n        vertical-align: middle;\n    }\n\n    .dataframe tbody tr th {\n        vertical-align: top;\n    }\n\n    .dataframe thead th {\n        text-align: right;\n    }\n</style>\n<table border=\"1\" class=\"dataframe\">\n  <thead>\n    <tr style=\"text-align: right;\">\n      <th></th>\n      <th>No</th>\n      <th>Start Date</th>\n      <th>Due Date</th>\n      <th>Name1</th>\n      <th>Name2</th>\n      <th>Nominee</th>\n      <th>Bank Name</th>\n      <th>Bank Branch</th>\n      <th>Amount Dep</th>\n      <th>Amount Due</th>\n    </tr>\n  </thead>\n  <tbody>\n    <tr>\n      <th>0</th>\n      <td>1.0</td>\n      <td>11-02-2021</td>\n      <td>02/11/2024</td>\n      <td>Rohiniben Parekh</td>\n      <td>Manish Parekh</td>\n      <td>Reena Parekh</td>\n      <td>BOB</td>\n      <td>Navyug</td>\n      <td>₹350,000.0</td>\n      <td>₹413,546.0</td>\n    </tr>\n    <tr>\n      <th>1</th>\n      <td>2.0</td>\n      <td>12-04-2016</td>\n      <td>04/12/2021</td>\n      <td>Reena Parekh</td>\n      <td>Manish Parekh</td>\n      <td>NaN</td>\n      <td>BOB</td>\n      <td>Parsi Sheri</td>\n      <td>₹20,000.0</td>\n      <td>₹28,101.0</td>\n    </tr>\n    <tr>\n      <th>2</th>\n      <td>3.0</td>\n      <td>18-10-2020</td>\n      <td>11/12/2021</td>\n      <td>Rohiniben Parekh</td>\n      <td>Kalpesh Parekh</td>\n      <td>NaN</td>\n      <td>BOB</td>\n      <td>Chhipwad</td>\n      <td>₹150,000.0</td>\n      <td>₹159,430.0</td>\n    </tr>\n    <tr>\n      <th>3</th>\n      <td>4.0</td>\n      <td>29-09-2020</td>\n      <td>29/09/21</td>\n      <td>Rohiniben Parekh</td>\n      <td>Manish Parekh</td>\n      <td>NaN</td>\n      <td>BOB</td>\n      <td>Chhipwad</td>\n      <td>₹150,000.0</td>\n      <td>₹158,578.0</td>\n    </tr>\n    <tr>\n      <th>4</th>\n      <td>5.0</td>\n      <td>06-12-2016</td>\n      <td>12/06/2021</td>\n      <td>Reena Parekh</td>\n      <td>Manish Parekh</td>\n      <td>NaN</td>\n      <td>BOB</td>\n      <td>Parsi Sheri</td>\n      <td>₹40,000.0</td>\n      <td>₹54,647.0</td>\n    </tr>\n    <tr>\n      <th>5</th>\n      <td>6.0</td>\n      <td>12-04-2016</td>\n      <td>04/12/2021</td>\n      <td>Manish Parekh</td>\n      <td>Reena Parekh</td>\n      <td>NaN</td>\n      <td>BOB</td>\n      <td>Parsi Sheri</td>\n      <td>₹60,000.0</td>\n      <td>₹81,994.0</td>\n    </tr>\n    <tr>\n      <th>6</th>\n      <td>7.0</td>\n      <td>12-05-2014</td>\n      <td>11/07/2022</td>\n      <td>Rohiniben Parekh</td>\n      <td>Nalinchandra Parekh</td>\n      <td>NaN</td>\n      <td>SPB</td>\n      <td>Parsi Sheri</td>\n      <td>₹75,308.0</td>\n      <td>₹130,697.0</td>\n    </tr>\n    <tr>\n      <th>7</th>\n      <td>8.0</td>\n      <td>26-06-2016</td>\n      <td>22/06/22</td>\n      <td>Nalinchandra Parekh</td>\n      <td>Rohiniben Parekh</td>\n      <td>NaN</td>\n      <td>SPB</td>\n      <td>Parsi Sheri</td>\n      <td>₹95,233.0</td>\n      <td>₹132,676.0</td>\n    </tr>\n    <tr>\n      <th>8</th>\n      <td>9.0</td>\n      <td>06-04-2018</td>\n      <td>04/08/2021</td>\n      <td>Nalinchandra Parekh</td>\n      <td>Rohiniben Parekh</td>\n      <td>NaN</td>\n      <td>SPB</td>\n      <td>Parsi Sheri</td>\n      <td>₹62,410.0</td>\n      <td>₹79,146.0</td>\n    </tr>\n    <tr>\n      <th>9</th>\n      <td>10.0</td>\n      <td>20-03-2018</td>\n      <td>18/03/22</td>\n      <td>Nalinchandra Parekh</td>\n      <td>Rohiniben Parekh</td>\n      <td>NaN</td>\n      <td>SPB</td>\n      <td>Parsi Sheri</td>\n      <td>₹60,996.0</td>\n      <td>₹82,450.0</td>\n    </tr>\n    <tr>\n      <th>10</th>\n      <td>11.0</td>\n      <td>20-04-2018</td>\n      <td>05/05/2021</td>\n      <td>Manish Parekh</td>\n      <td>Reena Parekh</td>\n      <td>NaN</td>\n      <td>SPB</td>\n      <td>Parsi Sheri</td>\n      <td>₹31,179.0</td>\n      <td>₹40,872.0</td>\n    </tr>\n    <tr>\n      <th>11</th>\n      <td>12.0</td>\n      <td>20-04-2018</td>\n      <td>05/05/2021</td>\n      <td>Manish Parekh</td>\n      <td>Reena Parekh</td>\n      <td>NaN</td>\n      <td>SPB</td>\n      <td>Parsi Sheri</td>\n      <td>₹37,414.0</td>\n      <td>₹49,045.0</td>\n    </tr>\n    <tr>\n      <th>12</th>\n      <td>13.0</td>\n      <td>02-10-2020</td>\n      <td>04/02/2022</td>\n      <td>Rohiniben Parekh</td>\n      <td>Reena Parekh</td>\n      <td>NaN</td>\n      <td>CAN</td>\n      <td>Kotsafil MRD</td>\n      <td>₹46,397.0</td>\n      <td>₹50,545.0</td>\n    </tr>\n    <tr>\n      <th>13</th>\n      <td>14.0</td>\n      <td>06-09-2020</td>\n      <td>03/06/2022</td>\n      <td>Reena Parekh</td>\n      <td>Rohiniben Parekh</td>\n      <td>NaN</td>\n      <td>CAN</td>\n      <td>Kotsafil MRD</td>\n      <td>₹44,787.0</td>\n      <td>₹48,503.0</td>\n    </tr>\n    <tr>\n      <th>14</th>\n      <td>15.0</td>\n      <td>10-11-2014</td>\n      <td>19/09/22</td>\n      <td>Manish Parekh</td>\n      <td>Reena Parekh</td>\n      <td>NaN</td>\n      <td>CAN</td>\n      <td>Kotsafil MRD</td>\n      <td>₹25,000.0</td>\n      <td>₹43,769.0</td>\n    </tr>\n    <tr>\n      <th>15</th>\n      <td>16.0</td>\n      <td>10-11-2014</td>\n      <td>08/10/2023</td>\n      <td>Reena Parekh</td>\n      <td>Manish Parekh</td>\n      <td>NaN</td>\n      <td>CAN</td>\n      <td>Kotsafil MRD</td>\n      <td>₹25,000.0</td>\n      <td>₹45,368.0</td>\n    </tr>\n    <tr>\n      <th>16</th>\n      <td>17.0</td>\n      <td>10-12-2013</td>\n      <td>12/10/2022</td>\n      <td>Reena Parekh</td>\n      <td>Manish Parekh</td>\n      <td>NaN</td>\n      <td>CAN</td>\n      <td>Kotsafil MRD</td>\n      <td>₹25,000.0</td>\n      <td>₹48,865.0</td>\n    </tr>\n    <tr>\n      <th>17</th>\n      <td>18.0</td>\n      <td>11-11-2014</td>\n      <td>19/09/22</td>\n      <td>Manish Parekh</td>\n      <td>Reena Parekh</td>\n      <td>NaN</td>\n      <td>CAN</td>\n      <td>Kotsafil MRD</td>\n      <td>₹30,000.0</td>\n      <td>₹52,514.0</td>\n    </tr>\n  </tbody>\n</table>\n</div>"
     },
     "metadata": {},
     "execution_count": 75
    }
   ],
   "source": []
  }
 ]
}