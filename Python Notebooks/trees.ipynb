{
 "metadata": {
  "language_info": {
   "codemirror_mode": {
    "name": "ipython",
    "version": 3
   },
   "file_extension": ".py",
   "mimetype": "text/x-python",
   "name": "python",
   "nbconvert_exporter": "python",
   "pygments_lexer": "ipython3",
   "version": "3.7.6-final"
  },
  "orig_nbformat": 2,
  "kernelspec": {
   "name": "python3",
   "display_name": "Python 3"
  }
 },
 "nbformat": 4,
 "nbformat_minor": 2,
 "cells": [
  {
   "source": [
    "class Expr:\n",
    "    pass"
   ],
   "cell_type": "code",
   "metadata": {},
   "execution_count": 1,
   "outputs": []
  },
  {
   "cell_type": "code",
   "execution_count": 2,
   "metadata": {},
   "outputs": [],
   "source": [
    "class Times (Expr):\n",
    "    def __init__(self,l,r):\n",
    "        self.l = l\n",
    "        self.r = r\n",
    "    # def product(self):\n",
    "        "
   ]
  },
  {
   "cell_type": "code",
   "execution_count": 3,
   "metadata": {},
   "outputs": [],
   "source": [
    "class Plus(Expr):\n",
    "    def __init__(self,l,r):\n",
    "        self.l = l\n",
    "        self.r = r\n",
    "    # def add(self):\n",
    "    #     return self.l+self.r"
   ]
  },
  {
   "cell_type": "code",
   "execution_count": 4,
   "metadata": {},
   "outputs": [],
   "source": [
    "class Const (Expr):\n",
    "    def __init__(self,val):\n",
    "        self.val=val    \n",
    "\n",
    "    def __str__(self):\n",
    "        return str(self.val)     "
   ]
  },
  {
   "cell_type": "code",
   "execution_count": 5,
   "metadata": {},
   "outputs": [],
   "source": [
    "class Var(Expr):\n",
    "    def __init__(self,name):\n",
    "        self.name=name\n",
    "    \n",
    "    def __str__(self):\n",
    "        return self.name\n",
    "    # pass"
   ]
  },
  {
   "cell_type": "code",
   "execution_count": 6,
   "metadata": {},
   "outputs": [],
   "source": [
    "e1 = Times(Const(3),Plus(Var(\"y\"),Var(\"x\")))"
   ]
  },
  {
   "cell_type": "code",
   "execution_count": null,
   "metadata": {},
   "outputs": [],
   "source": []
  }
 ]
}